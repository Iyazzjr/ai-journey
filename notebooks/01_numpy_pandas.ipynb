{
 "cells": [
  {
   "cell_type": "code",
   "execution_count": 1,
   "id": "7da859d5",
   "metadata": {},
   "outputs": [
    {
     "data": {
      "text/plain": [
       "(array([[0, 1, 2],\n",
       "        [3, 4, 5],\n",
       "        [6, 7, 8]]),\n",
       "          A    B    C\n",
       " count  3.0  3.0  3.0\n",
       " mean   3.0  4.0  5.0\n",
       " std    3.0  3.0  3.0\n",
       " min    0.0  1.0  2.0\n",
       " 25%    1.5  2.5  3.5\n",
       " 50%    3.0  4.0  5.0\n",
       " 75%    4.5  5.5  6.5\n",
       " max    6.0  7.0  8.0)"
      ]
     },
     "execution_count": 1,
     "metadata": {},
     "output_type": "execute_result"
    }
   ],
   "source": [
    "import numpy as np, pandas as pd\n",
    "\n",
    "# make a 3x3 array with values 0..8\n",
    "a = np.arange(9).reshape(3,3)\n",
    "\n",
    "# convert to a small table with columns A, B, C\n",
    "df = pd.DataFrame(a, columns=list(\"ABC\"))\n",
    "\n",
    "a, df.describe()"
   ]
  },
  {
   "cell_type": "code",
   "execution_count": null,
   "id": "ca401126",
   "metadata": {},
   "outputs": [],
   "source": []
  }
 ],
 "metadata": {
  "kernelspec": {
   "display_name": ".venv",
   "language": "python",
   "name": "python3"
  },
  "language_info": {
   "codemirror_mode": {
    "name": "ipython",
    "version": 3
   },
   "file_extension": ".py",
   "mimetype": "text/x-python",
   "name": "python",
   "nbconvert_exporter": "python",
   "pygments_lexer": "ipython3",
   "version": "3.10.12"
  }
 },
 "nbformat": 4,
 "nbformat_minor": 5
}
